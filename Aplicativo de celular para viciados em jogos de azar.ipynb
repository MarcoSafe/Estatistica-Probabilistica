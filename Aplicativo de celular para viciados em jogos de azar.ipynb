{
 "cells": [
  {
   "cell_type": "markdown",
   "metadata": {},
   "source": [
    "## Aplicativo de celular para viciados em jogos de azar"
   ]
  },
  {
   "cell_type": "markdown",
   "metadata": {},
   "source": [
    "Neste projeto, eu farei uma contribuição para o desenvolvimento de um aplicativo de celular que visa ajudar os viciados em jogos de azar a estimar as suas chances de ganhar."
   ]
  },
  {
   "cell_type": "markdown",
   "metadata": {},
   "source": [
    "Muitas pessoas começam a jogar na loteria por diversão, mas para algumas essa atividade se transforma em um hábito que eventualmente se torna em vício. Como outros apostadores compulsivos, os viciados em loteria logo começam a usar suas economias e empréstimos para apostar, acumulam dívidas e eventualmente seus impulsos incontroláveis os envolvem em situações de desespero como roubo."
   ]
  },
  {
   "cell_type": "markdown",
   "metadata": {},
   "source": [
    "Um instituto médico que visa prevenir e tratar os vícios do jogo quer construir um aplicativo de celular para ajudar os viciados em jogos de azar a estimar melhor suas chances de ganhar. O instituto tem uma equipe de engenheiros que irá construir o aplicativo, mas eles precisam de nós para criar o núcleo lógico do app e calcular as probabilidades."
   ]
  },
  {
   "cell_type": "markdown",
   "metadata": {},
   "source": [
    "Para a primeira versão do aplicativo, deverei me concentrar na loteria 6/49 e construir funções que permitam aos usuários responder perguntas como:"
   ]
  },
  {
   "cell_type": "markdown",
   "metadata": {},
   "source": [
    "- Qual é a probabilidade de se ganhar um prêmio grande com um único bilhete?\n",
    "- Qual é a probabilidade de se ganhar um grande prémio se apostarmos 40 bilhetes diferentes (ou qualquer outro número)?\n",
    "- Qual é a probabilidade de se ter pelo menos cinco (ou quatro, ou três, ou dois) números sorteados em um único bilhete?"
   ]
  },
  {
   "cell_type": "markdown",
   "metadata": {},
   "source": [
    "O instituto também quer que consideremos dados históricos provenientes de jogos de azar da loteria nacional 6/49, no Canadá. O conjunto de dados tem dados para 3.665 sorteios, datados de 1982 a 2018."
   ]
  },
  {
   "cell_type": "markdown",
   "metadata": {},
   "source": [
    "### Funções principais"
   ]
  },
  {
   "cell_type": "markdown",
   "metadata": {},
   "source": [
    "Ao longo do projeto, eu farei diversos cálculos de probabilidades e combinações. Dessa forma, começarei escrevendo duas funções que serão usadas com frequência:"
   ]
  },
  {
   "cell_type": "markdown",
   "metadata": {},
   "source": [
    "- Uma função que calcula os fatoriais\n",
    "- Uma função que calcula combinações"
   ]
  },
  {
   "cell_type": "code",
   "execution_count": 15,
   "metadata": {},
   "outputs": [],
   "source": [
    "# função para o cálculo de fatoriais\n",
    "def factorial(n):\n",
    "    return n * factorial(n-1) if n > 1 else 1\n",
    "\n",
    "# função para o cálculo de combinações\n",
    "def combinations(n, k):\n",
    "    numerator = factorial(n)\n",
    "    denominator = factorial(n-k) * factorial(k)\n",
    "    return numerator / denominator"
   ]
  },
  {
   "cell_type": "markdown",
   "metadata": {},
   "source": [
    "### Probabilidade de um único bilhete"
   ]
  },
  {
   "cell_type": "markdown",
   "metadata": {},
   "source": [
    "Em seguida, eu criarei uma função que calcule a probabilidade de ganhar o grande prémio."
   ]
  },
  {
   "cell_type": "markdown",
   "metadata": {},
   "source": [
    "Na loteria 6/49, seis números são sorteados de um conjunto de 49 números que variam de 1 a 49. Um jogador ganha o grande prêmio se os seis números nos seus bilhetes corresponderem a todos os seis números sorteados. Se um jogador tiver um bilhete com os números {13, 22, 24, 27, 42, 44}, ele só ganhará o grande prêmio se os números sorteados forem {13, 22, 24, 27, 42, 44}. Se apenas um dos números for diferente, ele não ganhará o sorteio."
   ]
  },
  {
   "cell_type": "markdown",
   "metadata": {},
   "source": [
    "Para a primeira versão do aplicativo, será necessário que os jogadores possam calcular a probabilidade de ganharem o grande prêmio com base nos vários números que jogam em um único bilhete (para cada bilhete, um jogador escolhe seis números, dentre 49). Assim, vamos começar por meio da construção de uma função que calcule a probabilidade de se ganhar o grande prêmio para qualquer bilhete."
   ]
  },
  {
   "cell_type": "markdown",
   "metadata": {},
   "source": [
    "A equipe de engenharia do instituto médico disse que precisamos estar atentos aos seguintes detalhes quando a função for escritao:"
   ]
  },
  {
   "cell_type": "markdown",
   "metadata": {},
   "source": [
    "- Dentro do aplicativo, o usuário insere seis números diferentes de 1 a 49.\n",
    "- Nos bastidores, os seis números se tornarão uma lista em Python, que servirá como entrada única para a nossa função.\n",
    "- A equipe de engenharia quer que a função imprima o valor da probabilidade de uma forma amigável - de uma forma que  pessoas sem qualquer conhecimento em probabilidade sejam capazes de entender."
   ]
  },
  {
   "cell_type": "markdown",
   "metadata": {},
   "source": [
    "Abaixo ecrevemos a função:"
   ]
  },
  {
   "cell_type": "code",
   "execution_count": 16,
   "metadata": {},
   "outputs": [],
   "source": [
    "# função mencionada acima\n",
    "def one_ticket_probability(list_of_six):\n",
    "    # cálculo dos resultados possíveis\n",
    "    possible_outcomes = combinations(49, int(len(list_of_six)))\n",
    "    \n",
    "    # único resultado\n",
    "    single_outcome = 1\n",
    "    \n",
    "    # cálculo da probabilidade\n",
    "    prob = single_outcome / possible_outcomes\n",
    "    \n",
    "    return \"A probabilidade deste bilhete {} ser o ganhador é de {:.6%}. \\\n",
    "            Em outras palavras, a sua chance de ganhar é de 1 em {:,}\".format(list_of_six, prob, possible_outcomes)"
   ]
  },
  {
   "cell_type": "code",
   "execution_count": 5,
   "metadata": {},
   "outputs": [
    {
     "data": {
      "text/plain": [
       "'A probabilidade deste bilhete [4, 5, 6, 8, 34, 25] ser o ganhador é de 0.000007%.             Em outras palavras, a sua chance de ganhar é de 1 em 13,983,816.0'"
      ]
     },
     "execution_count": 5,
     "metadata": {},
     "output_type": "execute_result"
    }
   ],
   "source": [
    "one_ticket_probability([4, 5, 6, 8, 34, 25])"
   ]
  },
  {
   "cell_type": "markdown",
   "metadata": {},
   "source": [
    "Na função acima, eu peguei uma lista de seis números inteiros e calculei a probabilidade de que essa combinação exata será sorteada na loteria. A função pega uma lista e usa a função de combinações para encontrar o número total de resultados possíveis para uma lista de seis números inteiros e depois divide um por esse montante. Um, pois esta é a ordem exata na qual o bilhete deve sair para poder ganhar."
   ]
  },
  {
   "cell_type": "markdown",
   "metadata": {},
   "source": [
    "### Verificação de dados históricos para a loteria no Canadá"
   ]
  },
  {
   "cell_type": "markdown",
   "metadata": {},
   "source": [
    "Acima, eu escrevi função que é capaz de dizer aos usuários qual é a probabilidade de se ganhar o grande prêmio com um único bilhete. Para a primeira versão do aplicativo, no entanto, os usuários também devem ser capazes de comparar seu bilhete com os dados históricos da loteria no Canadá e determinar se eles já teriam ganho até agora."
   ]
  },
  {
   "cell_type": "markdown",
   "metadata": {},
   "source": [
    "Assim, eu irei me concentrar em explorar os dados históricos da loteria 6/49. O conjunto de dados pode ser baixado no Kaggle e tem a seguinte estrutura:"
   ]
  },
  {
   "cell_type": "code",
   "execution_count": 17,
   "metadata": {},
   "outputs": [
    {
     "data": {
      "text/html": [
       "<div>\n",
       "<style scoped>\n",
       "    .dataframe tbody tr th:only-of-type {\n",
       "        vertical-align: middle;\n",
       "    }\n",
       "\n",
       "    .dataframe tbody tr th {\n",
       "        vertical-align: top;\n",
       "    }\n",
       "\n",
       "    .dataframe thead th {\n",
       "        text-align: right;\n",
       "    }\n",
       "</style>\n",
       "<table border=\"1\" class=\"dataframe\">\n",
       "  <thead>\n",
       "    <tr style=\"text-align: right;\">\n",
       "      <th></th>\n",
       "      <th>PRODUCT</th>\n",
       "      <th>DRAW NUMBER</th>\n",
       "      <th>SEQUENCE NUMBER</th>\n",
       "      <th>DRAW DATE</th>\n",
       "      <th>NUMBER DRAWN 1</th>\n",
       "      <th>NUMBER DRAWN 2</th>\n",
       "      <th>NUMBER DRAWN 3</th>\n",
       "      <th>NUMBER DRAWN 4</th>\n",
       "      <th>NUMBER DRAWN 5</th>\n",
       "      <th>NUMBER DRAWN 6</th>\n",
       "      <th>BONUS NUMBER</th>\n",
       "    </tr>\n",
       "  </thead>\n",
       "  <tbody>\n",
       "    <tr>\n",
       "      <td>0</td>\n",
       "      <td>649</td>\n",
       "      <td>1</td>\n",
       "      <td>0</td>\n",
       "      <td>6/12/1982</td>\n",
       "      <td>3</td>\n",
       "      <td>11</td>\n",
       "      <td>12</td>\n",
       "      <td>14</td>\n",
       "      <td>41</td>\n",
       "      <td>43</td>\n",
       "      <td>13</td>\n",
       "    </tr>\n",
       "    <tr>\n",
       "      <td>1</td>\n",
       "      <td>649</td>\n",
       "      <td>2</td>\n",
       "      <td>0</td>\n",
       "      <td>6/19/1982</td>\n",
       "      <td>8</td>\n",
       "      <td>33</td>\n",
       "      <td>36</td>\n",
       "      <td>37</td>\n",
       "      <td>39</td>\n",
       "      <td>41</td>\n",
       "      <td>9</td>\n",
       "    </tr>\n",
       "    <tr>\n",
       "      <td>2</td>\n",
       "      <td>649</td>\n",
       "      <td>3</td>\n",
       "      <td>0</td>\n",
       "      <td>6/26/1982</td>\n",
       "      <td>1</td>\n",
       "      <td>6</td>\n",
       "      <td>23</td>\n",
       "      <td>24</td>\n",
       "      <td>27</td>\n",
       "      <td>39</td>\n",
       "      <td>34</td>\n",
       "    </tr>\n",
       "  </tbody>\n",
       "</table>\n",
       "</div>"
      ],
      "text/plain": [
       "   PRODUCT  DRAW NUMBER  SEQUENCE NUMBER  DRAW DATE  NUMBER DRAWN 1  \\\n",
       "0      649            1                0  6/12/1982               3   \n",
       "1      649            2                0  6/19/1982               8   \n",
       "2      649            3                0  6/26/1982               1   \n",
       "\n",
       "   NUMBER DRAWN 2  NUMBER DRAWN 3  NUMBER DRAWN 4  NUMBER DRAWN 5  \\\n",
       "0              11              12              14              41   \n",
       "1              33              36              37              39   \n",
       "2               6              23              24              27   \n",
       "\n",
       "   NUMBER DRAWN 6  BONUS NUMBER  \n",
       "0              43            13  \n",
       "1              41             9  \n",
       "2              39            34  "
      ]
     },
     "execution_count": 17,
     "metadata": {},
     "output_type": "execute_result"
    }
   ],
   "source": [
    "import pandas as pd\n",
    "\n",
    "# carregar o dataset\n",
    "data = pd.read_csv(r'C:\\Users\\msantos\\Downloads\\649.csv', encoding='Latin-1')\n",
    "\n",
    "# checar os primeiros registros \n",
    "data.head(3)"
   ]
  },
  {
   "cell_type": "code",
   "execution_count": 18,
   "metadata": {},
   "outputs": [
    {
     "data": {
      "text/html": [
       "<div>\n",
       "<style scoped>\n",
       "    .dataframe tbody tr th:only-of-type {\n",
       "        vertical-align: middle;\n",
       "    }\n",
       "\n",
       "    .dataframe tbody tr th {\n",
       "        vertical-align: top;\n",
       "    }\n",
       "\n",
       "    .dataframe thead th {\n",
       "        text-align: right;\n",
       "    }\n",
       "</style>\n",
       "<table border=\"1\" class=\"dataframe\">\n",
       "  <thead>\n",
       "    <tr style=\"text-align: right;\">\n",
       "      <th></th>\n",
       "      <th>PRODUCT</th>\n",
       "      <th>DRAW NUMBER</th>\n",
       "      <th>SEQUENCE NUMBER</th>\n",
       "      <th>DRAW DATE</th>\n",
       "      <th>NUMBER DRAWN 1</th>\n",
       "      <th>NUMBER DRAWN 2</th>\n",
       "      <th>NUMBER DRAWN 3</th>\n",
       "      <th>NUMBER DRAWN 4</th>\n",
       "      <th>NUMBER DRAWN 5</th>\n",
       "      <th>NUMBER DRAWN 6</th>\n",
       "      <th>BONUS NUMBER</th>\n",
       "    </tr>\n",
       "  </thead>\n",
       "  <tbody>\n",
       "    <tr>\n",
       "      <td>3662</td>\n",
       "      <td>649</td>\n",
       "      <td>3589</td>\n",
       "      <td>0</td>\n",
       "      <td>6/13/2018</td>\n",
       "      <td>6</td>\n",
       "      <td>22</td>\n",
       "      <td>24</td>\n",
       "      <td>31</td>\n",
       "      <td>32</td>\n",
       "      <td>34</td>\n",
       "      <td>16</td>\n",
       "    </tr>\n",
       "    <tr>\n",
       "      <td>3663</td>\n",
       "      <td>649</td>\n",
       "      <td>3590</td>\n",
       "      <td>0</td>\n",
       "      <td>6/16/2018</td>\n",
       "      <td>2</td>\n",
       "      <td>15</td>\n",
       "      <td>21</td>\n",
       "      <td>31</td>\n",
       "      <td>38</td>\n",
       "      <td>49</td>\n",
       "      <td>8</td>\n",
       "    </tr>\n",
       "    <tr>\n",
       "      <td>3664</td>\n",
       "      <td>649</td>\n",
       "      <td>3591</td>\n",
       "      <td>0</td>\n",
       "      <td>6/20/2018</td>\n",
       "      <td>14</td>\n",
       "      <td>24</td>\n",
       "      <td>31</td>\n",
       "      <td>35</td>\n",
       "      <td>37</td>\n",
       "      <td>48</td>\n",
       "      <td>17</td>\n",
       "    </tr>\n",
       "  </tbody>\n",
       "</table>\n",
       "</div>"
      ],
      "text/plain": [
       "      PRODUCT  DRAW NUMBER  SEQUENCE NUMBER  DRAW DATE  NUMBER DRAWN 1  \\\n",
       "3662      649         3589                0  6/13/2018               6   \n",
       "3663      649         3590                0  6/16/2018               2   \n",
       "3664      649         3591                0  6/20/2018              14   \n",
       "\n",
       "      NUMBER DRAWN 2  NUMBER DRAWN 3  NUMBER DRAWN 4  NUMBER DRAWN 5  \\\n",
       "3662              22              24              31              32   \n",
       "3663              15              21              31              38   \n",
       "3664              24              31              35              37   \n",
       "\n",
       "      NUMBER DRAWN 6  BONUS NUMBER  \n",
       "3662              34            16  \n",
       "3663              49             8  \n",
       "3664              48            17  "
      ]
     },
     "execution_count": 18,
     "metadata": {},
     "output_type": "execute_result"
    }
   ],
   "source": [
    "# checar os ultimos registros\n",
    "data.tail(3)"
   ]
  },
  {
   "cell_type": "markdown",
   "metadata": {},
   "source": [
    "O conjunto de dados contém dados históricos para 3.665 sorteios (cada linha mostra dados para um único sorteio), datados de 1982 a 2018. Para cada sorteio, pode-se encontrar os seis números desenhados nas seis colunas seguintes:"
   ]
  },
  {
   "cell_type": "markdown",
   "metadata": {},
   "source": [
    "- NUMBER DRAWN 1 - .. - NUMBER DRAWN 6"
   ]
  },
  {
   "cell_type": "markdown",
   "metadata": {},
   "source": [
    "### Função de verificação de dados históricos"
   ]
  },
  {
   "cell_type": "markdown",
   "metadata": {},
   "source": [
    "Agora que estou familiarizado com o conjunto de dados, escreverei uma função que permitirá aos utilizadores comparar o seu bilhete com os dados históricos da loteria canadense e determinar se eles já teriam ganho alguma vez."
   ]
  },
  {
   "cell_type": "markdown",
   "metadata": {},
   "source": [
    "A equipe de engenharia me disse que preciso estar cientes dos seguintes detalhes:"
   ]
  },
  {
   "cell_type": "markdown",
   "metadata": {},
   "source": [
    "- Dentro do aplicativo, o usuário insere seis números diferentes de 1 a 49.\n",
    "- Nos bastidores, os seis números virão como uma lista Python e servirão como um input para a nossa função.\n",
    "- A equipe de engenharia quer que escrevamos uma função que imprima:\n",
    "    - o número de vezes que a combinação selecionada ocorreu no conjunto de dados do Canadá; \n",
    "    - a probabilidade de ganhar o grande prêmio no próximo sorteio com essa combinação."
   ]
  },
  {
   "cell_type": "markdown",
   "metadata": {},
   "source": [
    "Escreverei a função abaixo:"
   ]
  },
  {
   "cell_type": "code",
   "execution_count": 19,
   "metadata": {},
   "outputs": [],
   "source": [
    "# função para extrair os seis números do dataset\n",
    "def extract_numbers(row):\n",
    "    \n",
    "    # obter o número da coluna\n",
    "    cols = row[row.index.str.contains(\"NUMBER DRAWN\")]\n",
    "    \n",
    "    # retorna o conjuntp\n",
    "    return {s for s in cols}"
   ]
  },
  {
   "cell_type": "code",
   "execution_count": 20,
   "metadata": {},
   "outputs": [
    {
     "data": {
      "text/plain": [
       "0    {3, 41, 11, 12, 43, 14}\n",
       "1    {33, 36, 37, 39, 8, 41}\n",
       "2     {1, 6, 39, 23, 24, 27}\n",
       "3     {3, 9, 10, 43, 13, 20}\n",
       "4    {34, 5, 14, 47, 21, 31}\n",
       "dtype: object"
      ]
     },
     "execution_count": 20,
     "metadata": {},
     "output_type": "execute_result"
    }
   ],
   "source": [
    "# extrai o número de conjuntos\n",
    "number_sets = data.apply(extract_numbers, axis=1)\n",
    "number_sets.head()"
   ]
  },
  {
   "cell_type": "markdown",
   "metadata": {},
   "source": [
    "A função acima pega cada linha do conjunto de dados, filtra as colunas necessárias que contêm o números sorteados e depois itera cada valor para criar um conjunto. O método dataframe.apply faz isso para cada linha do dataframe, gerando conjuntos para cada registro."
   ]
  },
  {
   "cell_type": "code",
   "execution_count": 22,
   "metadata": {},
   "outputs": [],
   "source": [
    "# funçãoq que checa ocorrências históricas\n",
    "def check_historical_occurence(user_numbers, number_sets):\n",
    "    \n",
    "    # converte a lista de números do usuário em um conjunto\n",
    "    user_numbers = set(user_numbers)\n",
    "    \n",
    "    # compara o conjunto do usuário com outros conjuntos extraídos\n",
    "    # retorna uma série booleana\n",
    "    comparison = number_sets == user_numbers\n",
    "    \n",
    "    # conta o número de vezes esta combinação foi compatível com resultados passados\n",
    "    match = comparison.sum()\n",
    "    \n",
    "    # imprime o resultado da compatibilidade da combinação\n",
    "    print(\"Esta combinação ocorreu {} vezes no passado\".format(match))\n",
    "    \n",
    "    # calcula as chances de se ganhar com esse bilhete\n",
    "    print(one_ticket_probability(user_numbers))"
   ]
  },
  {
   "cell_type": "code",
   "execution_count": 23,
   "metadata": {},
   "outputs": [
    {
     "name": "stdout",
     "output_type": "stream",
     "text": [
      "Esta combinação ocorreu 1 vezes no passado\n",
      "A probabilidade deste bilhete {4, 9, 42, 44, 15, 20} ser o ganhador é de 0.000007%.             Em outras palavras, a sua chance de ganhar é de 1 em 13,983,816.0\n"
     ]
    }
   ],
   "source": [
    "check_historical_occurence([4, 9, 42, 44, 15, 20], number_sets)"
   ]
  },
  {
   "cell_type": "markdown",
   "metadata": {},
   "source": [
    "A função acima calcula o número de vezes que uma determinada combinação de números em um bilhete ocorreu no passado e, em seguida, usando a função que escrevemos anteriormente para calcular a probabilidade de obter a ocorrência, informa o usuário sobre suas chances de ganhar. É importante notar que o desempenho histórico de um conjunto não define de forma alguma suas chances de ocorrências."
   ]
  },
  {
   "cell_type": "markdown",
   "metadata": {},
   "source": [
    "### Probabilidade em bilhetes múltiplos"
   ]
  },
  {
   "cell_type": "markdown",
   "metadata": {},
   "source": [
    "Os viciados em loteria geralmente jogam mais de um bilhete em um único sorteio, pensando que isso pode aumentar significativamente suas chances de ganhar. O meu propósito é ajudá-los a estimar melhor suas chances de ganhar, de modo que vamos escrever uma função que permitirá aos usuários calcular as chances de ganhar, considerando um número qualquer de bilhetes diferentes."
   ]
  },
  {
   "cell_type": "markdown",
   "metadata": {},
   "source": [
    "Falei com a equipe de engenharia e eles me deram as seguintes informações:"
   ]
  },
  {
   "cell_type": "markdown",
   "metadata": {},
   "source": [
    "- O usuário do app irá digitar o número de bilhetes diferentes que pretende jogar (sem digitar as combinações específicas que pretende jogar).\n",
    "- Nossa função irá trabalhar com um número inteiro entre 1 e 13.983.816 (o número máximo de bilhetes diferentes).\n",
    "- A função deve imprimir a informação referente a probabilidade de se ganhar o grande prêmio dependendo do número de bilhetes diferentes apostados."
   ]
  },
  {
   "cell_type": "markdown",
   "metadata": {},
   "source": [
    "Escreverei esta função."
   ]
  },
  {
   "cell_type": "code",
   "execution_count": 14,
   "metadata": {},
   "outputs": [],
   "source": [
    "# função para calcular a probabilidade de multiplos bilhetes\n",
    "def multi_ticket_probability(num_tickets):\n",
    "    \n",
    "    # total de resultados possíveis\n",
    "    possible_outcomes = combinations(49, 6)\n",
    "    \n",
    "    # o numero de resultados bem sucedidos é o num_tickets\n",
    "    # calcular a probabilidade desses bilhetes vencerem\n",
    "    probs = num_tickets / possible_outcomes\n",
    "    \n",
    "    # imprimir resultados em um formato amigável\n",
    "    print(\"Se você jogar {} bilhetes, as suas chances de ganhar serão de {} em {:,}. \\n\\\n",
    "    Em outras palavras, {:.5%} de chance\".format(num_tickets, num_tickets, possible_outcomes, probs))"
   ]
  },
  {
   "cell_type": "markdown",
   "metadata": {},
   "source": [
    "A função acima pega o número de bilhetes e calcula a probabilidade de se ganhar. Vamos testar a função usando múltiplas entradas de dados."
   ]
  },
  {
   "cell_type": "code",
   "execution_count": 7,
   "metadata": {},
   "outputs": [
    {
     "name": "stdout",
     "output_type": "stream",
     "text": [
      "Se você jogar 1 bilhetes, as suas chances de ganhar serão de 1 em 13,983,816.0. \n",
      "    Em outras palavras, 0.00001% de chance\n"
     ]
    }
   ],
   "source": [
    "multi_ticket_probability(1)"
   ]
  },
  {
   "cell_type": "code",
   "execution_count": 8,
   "metadata": {},
   "outputs": [
    {
     "name": "stdout",
     "output_type": "stream",
     "text": [
      "Se você jogar 1000000 bilhetes, as suas chances de ganhar serão de 1000000 em 13,983,816.0. \n",
      "    Em outras palavras, 7.15112% de chance\n"
     ]
    }
   ],
   "source": [
    "multi_ticket_probability(1000000)"
   ]
  },
  {
   "cell_type": "code",
   "execution_count": 9,
   "metadata": {},
   "outputs": [
    {
     "name": "stdout",
     "output_type": "stream",
     "text": [
      "Se você jogar 6991908 bilhetes, as suas chances de ganhar serão de 6991908 em 13,983,816.0. \n",
      "    Em outras palavras, 50.00000% de chance\n"
     ]
    }
   ],
   "source": [
    "multi_ticket_probability(6991908)"
   ]
  },
  {
   "cell_type": "markdown",
   "metadata": {},
   "source": [
    "### Números menos ganhadores"
   ]
  },
  {
   "cell_type": "markdown",
   "metadata": {},
   "source": [
    "Até agora, eu escrevi as seguintes funções:"
   ]
  },
  {
   "cell_type": "markdown",
   "metadata": {},
   "source": [
    "- one_ticket_probability() - calcula a probabilidade de se ganhar o grande prêmio com um único bilhete\n",
    "- check_historical_occurrence() - verifica se uma determinada combinação ocorreu no conjunto de dados da lotaria do Canadá\n",
    "- multi_ticket_probability() - calcula a probabilidade para qualquer número de bilhetes entre 1 e 13.983.816 "
   ]
  },
  {
   "cell_type": "markdown",
   "metadata": {},
   "source": [
    "Por último, escreverei mais uma função para que os usuários calculem probabilidades para dois, três, quatro, ou cinco números vencedores."
   ]
  },
  {
   "cell_type": "markdown",
   "metadata": {},
   "source": [
    "Na maioria das loterias 6/49 há prêmios menores se o bilhete de um jogador acertar dois, três, quatro ou cinco dos seis números sorteados. Consequentemente, os usuários podem estar interessados em saber a probabilidade de ter dois, três, quatro ou cinco números vencedores."
   ]
  },
  {
   "cell_type": "markdown",
   "metadata": {},
   "source": [
    "Estes são os detalhes de engenharia que temos de conhecer:"
   ]
  },
  {
   "cell_type": "markdown",
   "metadata": {},
   "source": [
    "- Dentro do aplicativo, as entradas do usuário:\n",
    "    - seis números diferentes de 1 a 49; e\n",
    "    - um número inteiro entre 2 e 5 que representa o número de números vencedores esperados\n",
    "- A função imprime informações sobre a probabilidade de se ter o número inserido de números vencedores."
   ]
  },
  {
   "cell_type": "code",
   "execution_count": 13,
   "metadata": {},
   "outputs": [],
   "source": [
    "# function to calculate the probability of less than 6 numbers, which takes the number less than 6\n",
    "# indicating the integer of winning numbers expected\n",
    "def probability_less_6(user_choice):\n",
    "    \n",
    "    # calcular combinações, dada a escolha do usuário (6 escolhas k-user_choice)\n",
    "    success_outcomes = combinations(6, user_choice)\n",
    "    \n",
    "    # calcular resultados possíveis, dada a escolha do usuário\n",
    "    possible_outcomes = combinations(49-user_choice, 6-user_choice)\n",
    "    \n",
    "    # calcular o total de resultados\n",
    "    total_outcomes = success_outcomes * possible_outcomes\n",
    "    \n",
    "    # calcular o total de resultados possíveis de 49, escolhendo 6 combinacoes\n",
    "    total_combinations = combinations(49, 6)\n",
    "    \n",
    "    # calcular a probabilidade de vencer \n",
    "    prob = total_outcomes / total_combinations\n",
    "    \n",
    "    print(\"Sua chance de ganhar com {} numeros de 6 é {:.7%}\".format(user_choice, prob))"
   ]
  },
  {
   "cell_type": "code",
   "execution_count": 11,
   "metadata": {},
   "outputs": [
    {
     "name": "stdout",
     "output_type": "stream",
     "text": [
      "Sua chance de ganhar com 2 numeros de 6 é 19.1326531%\n"
     ]
    }
   ],
   "source": [
    "probability_less_6(2)"
   ]
  },
  {
   "cell_type": "code",
   "execution_count": 12,
   "metadata": {},
   "outputs": [
    {
     "name": "stdout",
     "output_type": "stream",
     "text": [
      "Sua chance de ganhar com 4 numeros de 6 é 0.1061942%\n"
     ]
    }
   ],
   "source": [
    "probability_less_6(4)"
   ]
  }
 ],
 "metadata": {
  "kernelspec": {
   "display_name": "Python 3",
   "language": "python",
   "name": "python3"
  },
  "language_info": {
   "codemirror_mode": {
    "name": "ipython",
    "version": 3
   },
   "file_extension": ".py",
   "mimetype": "text/x-python",
   "name": "python",
   "nbconvert_exporter": "python",
   "pygments_lexer": "ipython3",
   "version": "3.7.4"
  }
 },
 "nbformat": 4,
 "nbformat_minor": 2
}
